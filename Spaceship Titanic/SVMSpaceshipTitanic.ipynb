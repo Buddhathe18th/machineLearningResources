{
 "cells": [
  {
   "cell_type": "markdown",
   "metadata": {},
   "source": [
    "## Importing modules and packages"
   ]
  },
  {
   "cell_type": "code",
   "execution_count": 8,
   "metadata": {},
   "outputs": [],
   "source": [
    "import pandas as pd\n",
    "import numpy as np\n",
    "import matplotlib.pyplot as plt\n",
    "import matplotlib.colors as colors\n",
    "from sklearn.utils import resample\n",
    "from sklearn.model_selection import train_test_split \n",
    "from sklearn.preprocessing import scale \n",
    "from sklearn.svm import SVC \n",
    "from sklearn.model_selection import GridSearchCV \n",
    "from sklearn.metrics import confusion_matrix \n",
    "# from sklearn.metrics import plot_confusion_matrix\n",
    "from sklearn.decomposition import PCA\n"
   ]
  },
  {
   "cell_type": "markdown",
   "metadata": {},
   "source": [
    "## Import data and clean up data"
   ]
  },
  {
   "cell_type": "code",
   "execution_count": 9,
   "metadata": {},
   "outputs": [],
   "source": [
    "train_data = pd.read_csv(\"./train.csv\")\n",
    "train_data.head()\n",
    "\n",
    "test_data = pd.read_csv(\"./test.csv\")"
   ]
  },
  {
   "cell_type": "markdown",
   "metadata": {},
   "source": [
    "Splitting the passenger id into two parts, the group id and the number assigned in the group. In addition, split the cabin column into three, the deck, deck number, and which side of the deck."
   ]
  },
  {
   "cell_type": "code",
   "execution_count": 10,
   "metadata": {},
   "outputs": [],
   "source": [
    "Seperate_Passenger_ID = test_data[\"PassengerId\"].str.split(\"_\", n=1, expand=True)\n",
    "test_data[\"PassengerGroup\"]=Seperate_Passenger_ID[0]\n",
    "test_data[\"PassengerNumber\"]=Seperate_Passenger_ID[1]\n",
    "\n",
    "Seperate_Cabin=test_data[\"Cabin\"].str.split(\"/\", n=2, expand=True)\n",
    "test_data[\"Deck\"]=Seperate_Cabin[0]\n",
    "test_data[\"DeckNumber\"]=Seperate_Cabin[1]\n",
    "test_data[\"DeckSide\"]=Seperate_Cabin[2]\n",
    "test_data.drop(columns=[\"Cabin\"], inplace=True)\n",
    "\n",
    "Seperate_Passenger_ID = train_data[\"PassengerId\"].str.split(\"_\", n=1, expand=True)\n",
    "train_data[\"PassengerGroup\"]=Seperate_Passenger_ID[0]\n",
    "train_data[\"PassengerNumber\"]=Seperate_Passenger_ID[1]\n",
    "\n",
    "Seperate_Cabin=train_data[\"Cabin\"].str.split(\"/\", n=2, expand=True)\n",
    "train_data[\"Deck\"]=Seperate_Cabin[0]\n",
    "train_data[\"DeckNumber\"]=Seperate_Cabin[1]\n",
    "train_data[\"DeckSide\"]=Seperate_Cabin[2]\n",
    "train_data.drop(columns=[\"Cabin\"], inplace=True)"
   ]
  },
  {
   "cell_type": "markdown",
   "metadata": {},
   "source": [
    "Making all strings into numerical or categorial data"
   ]
  },
  {
   "cell_type": "code",
   "execution_count": 11,
   "metadata": {},
   "outputs": [],
   "source": [
    "train_data['DeckNumber'] = train_data['DeckNumber'].astype('Int64')\n",
    "train_data['PassengerGroup'] = train_data['PassengerGroup'].astype('Int64')\n",
    "train_data['PassengerNumber'] = train_data['PassengerNumber'].astype('Int64')\n",
    "# train_data['CryoSleep'] = train_data['CryoSleep'].map({'True': True, 'False': False})\n",
    "train_data['HomePlanet'] = train_data['HomePlanet'].map({'Earth': 0, 'Europa': 1, 'Mars': 2})\n",
    "train_data['Destination'] = train_data['Destination'].map({'55 Cancri e': 0, 'PSO J318.5-22': 1,'TRAPPIST-1e': 2})\n",
    "train_data['Deck'] = train_data['Deck'].map({'A': 0,'B': 1,'C': 2,'D': 3,'E': 4,'F': 5,'G': 6,'H': 7,'I': 8,'J': 9,'K': 10,'L': 11,'M': 12,'N': 13,'O': 14,'P': 15,'Q': 16,'R': 17,'S': 18,'T': 19,'U': 20,'V': 21,'W': 22,'X': 23,'Y': 24,'Z': 25})\n",
    "train_data['DeckSide']=train_data['DeckSide'].map({'S': 0, 'P': 1})\n",
    "\n",
    "test_data['DeckNumber'] = test_data['DeckNumber'].astype('Int64')\n",
    "test_data['PassengerGroup'] = test_data['PassengerGroup'].astype('Int64')\n",
    "test_data['PassengerNumber'] = test_data['PassengerNumber'].astype('Int64')\n",
    "# test_data['CryoSleep'] = test_data['CryoSleep'].map({'True': True, 'False': False})\n",
    "test_data['HomePlanet'] = test_data['HomePlanet'].map({'Earth': 0, 'Europa': 1, 'Mars': 2})\n",
    "test_data['Destination'] = test_data['Destination'].map({'55 Cancri e': 0, 'PSO J318.5-22': 1,'TRAPPIST-1e': 2})\n",
    "test_data['Deck'] = test_data['Deck'].map({'A': 0,'B': 1,'C': 2,'D': 3,'E': 4,'F': 5,'G': 6,'H': 7,'I': 8,'J': 9,'K': 10,'L': 11,'M': 12,'N': 13,'O': 14,'P': 15,'Q': 16,'R': 17,'S': 18,'T': 19,'U': 20,'V': 21,'W': 22,'X': 23,'Y': 24,'Z': 25})\n",
    "test_data['DeckSide']=test_data['DeckSide'].map({'S': 0, 'P': 1})\n"
   ]
  }
 ],
 "metadata": {
  "kernelspec": {
   "display_name": "Python 3",
   "language": "python",
   "name": "python3"
  },
  "language_info": {
   "codemirror_mode": {
    "name": "ipython",
    "version": 3
   },
   "file_extension": ".py",
   "mimetype": "text/x-python",
   "name": "python",
   "nbconvert_exporter": "python",
   "pygments_lexer": "ipython3",
   "version": "3.11.8"
  }
 },
 "nbformat": 4,
 "nbformat_minor": 2
}
