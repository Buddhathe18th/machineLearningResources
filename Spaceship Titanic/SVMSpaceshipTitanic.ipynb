{
 "cells": [
  {
   "cell_type": "markdown",
   "metadata": {},
   "source": [
    "## Importing modules and packages"
   ]
  },
  {
   "cell_type": "code",
   "execution_count": 14,
   "metadata": {},
   "outputs": [],
   "source": [
    "import pandas as pd\n",
    "import numpy as np\n",
    "import matplotlib.pyplot as plt\n",
    "import matplotlib.colors as colors\n",
    "from sklearn.utils import resample\n",
    "from sklearn.model_selection import train_test_split \n",
    "from sklearn.preprocessing import scale \n",
    "from sklearn.svm import SVC \n",
    "from sklearn.model_selection import GridSearchCV \n",
    "from sklearn.metrics import confusion_matrix \n",
    "# from sklearn.metrics import plot_confusion_matrix\n",
    "from sklearn.decomposition import PCA\n"
   ]
  },
  {
   "cell_type": "markdown",
   "metadata": {},
   "source": [
    "## Import data and clean up data"
   ]
  },
  {
   "cell_type": "code",
   "execution_count": 15,
   "metadata": {},
   "outputs": [
    {
     "data": {
      "text/html": [
       "<div>\n",
       "<style scoped>\n",
       "    .dataframe tbody tr th:only-of-type {\n",
       "        vertical-align: middle;\n",
       "    }\n",
       "\n",
       "    .dataframe tbody tr th {\n",
       "        vertical-align: top;\n",
       "    }\n",
       "\n",
       "    .dataframe thead th {\n",
       "        text-align: right;\n",
       "    }\n",
       "</style>\n",
       "<table border=\"1\" class=\"dataframe\">\n",
       "  <thead>\n",
       "    <tr style=\"text-align: right;\">\n",
       "      <th></th>\n",
       "      <th>PassengerId</th>\n",
       "      <th>HomePlanet</th>\n",
       "      <th>CryoSleep</th>\n",
       "      <th>Cabin</th>\n",
       "      <th>Destination</th>\n",
       "      <th>Age</th>\n",
       "      <th>VIP</th>\n",
       "      <th>RoomService</th>\n",
       "      <th>FoodCourt</th>\n",
       "      <th>ShoppingMall</th>\n",
       "      <th>Spa</th>\n",
       "      <th>VRDeck</th>\n",
       "      <th>Name</th>\n",
       "      <th>Transported</th>\n",
       "    </tr>\n",
       "  </thead>\n",
       "  <tbody>\n",
       "    <tr>\n",
       "      <th>0</th>\n",
       "      <td>0001_01</td>\n",
       "      <td>Europa</td>\n",
       "      <td>False</td>\n",
       "      <td>B/0/P</td>\n",
       "      <td>TRAPPIST-1e</td>\n",
       "      <td>39.0</td>\n",
       "      <td>False</td>\n",
       "      <td>0.0</td>\n",
       "      <td>0.0</td>\n",
       "      <td>0.0</td>\n",
       "      <td>0.0</td>\n",
       "      <td>0.0</td>\n",
       "      <td>Maham Ofracculy</td>\n",
       "      <td>False</td>\n",
       "    </tr>\n",
       "    <tr>\n",
       "      <th>1</th>\n",
       "      <td>0002_01</td>\n",
       "      <td>Earth</td>\n",
       "      <td>False</td>\n",
       "      <td>F/0/S</td>\n",
       "      <td>TRAPPIST-1e</td>\n",
       "      <td>24.0</td>\n",
       "      <td>False</td>\n",
       "      <td>109.0</td>\n",
       "      <td>9.0</td>\n",
       "      <td>25.0</td>\n",
       "      <td>549.0</td>\n",
       "      <td>44.0</td>\n",
       "      <td>Juanna Vines</td>\n",
       "      <td>True</td>\n",
       "    </tr>\n",
       "    <tr>\n",
       "      <th>2</th>\n",
       "      <td>0003_01</td>\n",
       "      <td>Europa</td>\n",
       "      <td>False</td>\n",
       "      <td>A/0/S</td>\n",
       "      <td>TRAPPIST-1e</td>\n",
       "      <td>58.0</td>\n",
       "      <td>True</td>\n",
       "      <td>43.0</td>\n",
       "      <td>3576.0</td>\n",
       "      <td>0.0</td>\n",
       "      <td>6715.0</td>\n",
       "      <td>49.0</td>\n",
       "      <td>Altark Susent</td>\n",
       "      <td>False</td>\n",
       "    </tr>\n",
       "    <tr>\n",
       "      <th>3</th>\n",
       "      <td>0003_02</td>\n",
       "      <td>Europa</td>\n",
       "      <td>False</td>\n",
       "      <td>A/0/S</td>\n",
       "      <td>TRAPPIST-1e</td>\n",
       "      <td>33.0</td>\n",
       "      <td>False</td>\n",
       "      <td>0.0</td>\n",
       "      <td>1283.0</td>\n",
       "      <td>371.0</td>\n",
       "      <td>3329.0</td>\n",
       "      <td>193.0</td>\n",
       "      <td>Solam Susent</td>\n",
       "      <td>False</td>\n",
       "    </tr>\n",
       "    <tr>\n",
       "      <th>4</th>\n",
       "      <td>0004_01</td>\n",
       "      <td>Earth</td>\n",
       "      <td>False</td>\n",
       "      <td>F/1/S</td>\n",
       "      <td>TRAPPIST-1e</td>\n",
       "      <td>16.0</td>\n",
       "      <td>False</td>\n",
       "      <td>303.0</td>\n",
       "      <td>70.0</td>\n",
       "      <td>151.0</td>\n",
       "      <td>565.0</td>\n",
       "      <td>2.0</td>\n",
       "      <td>Willy Santantines</td>\n",
       "      <td>True</td>\n",
       "    </tr>\n",
       "  </tbody>\n",
       "</table>\n",
       "</div>"
      ],
      "text/plain": [
       "  PassengerId HomePlanet CryoSleep  Cabin  Destination   Age    VIP  \\\n",
       "0     0001_01     Europa     False  B/0/P  TRAPPIST-1e  39.0  False   \n",
       "1     0002_01      Earth     False  F/0/S  TRAPPIST-1e  24.0  False   \n",
       "2     0003_01     Europa     False  A/0/S  TRAPPIST-1e  58.0   True   \n",
       "3     0003_02     Europa     False  A/0/S  TRAPPIST-1e  33.0  False   \n",
       "4     0004_01      Earth     False  F/1/S  TRAPPIST-1e  16.0  False   \n",
       "\n",
       "   RoomService  FoodCourt  ShoppingMall     Spa  VRDeck               Name  \\\n",
       "0          0.0        0.0           0.0     0.0     0.0    Maham Ofracculy   \n",
       "1        109.0        9.0          25.0   549.0    44.0       Juanna Vines   \n",
       "2         43.0     3576.0           0.0  6715.0    49.0      Altark Susent   \n",
       "3          0.0     1283.0         371.0  3329.0   193.0       Solam Susent   \n",
       "4        303.0       70.0         151.0   565.0     2.0  Willy Santantines   \n",
       "\n",
       "   Transported  \n",
       "0        False  \n",
       "1         True  \n",
       "2        False  \n",
       "3        False  \n",
       "4         True  "
      ]
     },
     "execution_count": 15,
     "metadata": {},
     "output_type": "execute_result"
    }
   ],
   "source": [
    "train_data = pd.read_csv(\"./train.csv\")\n",
    "\n",
    "\n",
    "test_data = pd.read_csv(\"./test.csv\")\n",
    "train_data.head()"
   ]
  },
  {
   "cell_type": "markdown",
   "metadata": {},
   "source": [
    "Splitting the passenger id into two parts, the group id and the number assigned in the group. In addition, split the cabin column into three, the deck, deck number, and which side of the deck."
   ]
  },
  {
   "cell_type": "code",
   "execution_count": 16,
   "metadata": {},
   "outputs": [],
   "source": [
    "Seperate_Passenger_ID = test_data[\"PassengerId\"].str.split(\"_\", n=1, expand=True)\n",
    "test_data[\"PassengerGroup\"]=Seperate_Passenger_ID[0]\n",
    "test_data[\"PassengerNumber\"]=Seperate_Passenger_ID[1]\n",
    "\n",
    "Seperate_Cabin=test_data[\"Cabin\"].str.split(\"/\", n=2, expand=True)\n",
    "test_data[\"Deck\"]=Seperate_Cabin[0]\n",
    "test_data[\"DeckNumber\"]=Seperate_Cabin[1]\n",
    "test_data[\"DeckSide\"]=Seperate_Cabin[2]\n",
    "test_data.drop(columns=[\"Cabin\"], inplace=True)\n",
    "\n",
    "Seperate_Passenger_ID = train_data[\"PassengerId\"].str.split(\"_\", n=1, expand=True)\n",
    "train_data[\"PassengerGroup\"]=Seperate_Passenger_ID[0]\n",
    "train_data[\"PassengerNumber\"]=Seperate_Passenger_ID[1]\n",
    "\n",
    "Seperate_Cabin=train_data[\"Cabin\"].str.split(\"/\", n=2, expand=True)\n",
    "train_data[\"Deck\"]=Seperate_Cabin[0]\n",
    "train_data[\"DeckNumber\"]=Seperate_Cabin[1]\n",
    "train_data[\"DeckSide\"]=Seperate_Cabin[2]\n",
    "train_data.drop(columns=[\"Cabin\"], inplace=True)\n",
    "\n",
    "train_data.drop('Name',axis=1,inplace=True)\n",
    "test_data.drop('Name',axis=1,inplace=True)"
   ]
  },
  {
   "cell_type": "markdown",
   "metadata": {},
   "source": [
    "Making all strings into numerical or categorial data"
   ]
  },
  {
   "cell_type": "code",
   "execution_count": 17,
   "metadata": {},
   "outputs": [],
   "source": [
    "train_data['DeckNumber'] = train_data['DeckNumber'].astype('Int64')\n",
    "train_data['PassengerGroup'] = train_data['PassengerGroup'].astype('Int64')\n",
    "train_data['PassengerNumber'] = train_data['PassengerNumber'].astype('Int64')\n",
    "# train_data['CryoSleep'] = train_data['CryoSleep'].map({'True': True, 'False': False})\n",
    "train_data['HomePlanet'] = train_data['HomePlanet'].map({'Earth': 0, 'Europa': 1, 'Mars': 2})\n",
    "train_data['Destination'] = train_data['Destination'].map({'55 Cancri e': 0, 'PSO J318.5-22': 1,'TRAPPIST-1e': 2})\n",
    "train_data['Deck'] = train_data['Deck'].map({'A': 0,'B': 1,'C': 2,'D': 3,'E': 4,'F': 5,'G': 6,'H': 7,'I': 8,'J': 9,'K': 10,'L': 11,'M': 12,'N': 13,'O': 14,'P': 15,'Q': 16,'R': 17,'S': 18,'T': 19,'U': 20,'V': 21,'W': 22,'X': 23,'Y': 24,'Z': 25})\n",
    "train_data['DeckSide']=train_data['DeckSide'].map({'S': 0, 'P': 1})\n",
    "\n",
    "test_data['DeckNumber'] = test_data['DeckNumber'].astype('Int64')\n",
    "test_data['PassengerGroup'] = test_data['PassengerGroup'].astype('Int64')\n",
    "test_data['PassengerNumber'] = test_data['PassengerNumber'].astype('Int64')\n",
    "# test_data['CryoSleep'] = test_data['CryoSleep'].map({'True': True, 'False': False})\n",
    "test_data['HomePlanet'] = test_data['HomePlanet'].map({'Earth': 0, 'Europa': 1, 'Mars': 2})\n",
    "test_data['Destination'] = test_data['Destination'].map({'55 Cancri e': 0, 'PSO J318.5-22': 1,'TRAPPIST-1e': 2})\n",
    "test_data['Deck'] = test_data['Deck'].map({'A': 0,'B': 1,'C': 2,'D': 3,'E': 4,'F': 5,'G': 6,'H': 7,'I': 8,'J': 9,'K': 10,'L': 11,'M': 12,'N': 13,'O': 14,'P': 15,'Q': 16,'R': 17,'S': 18,'T': 19,'U': 20,'V': 21,'W': 22,'X': 23,'Y': 24,'Z': 25})\n",
    "test_data['DeckSide']=test_data['DeckSide'].map({'S': 0, 'P': 1})\n"
   ]
  },
  {
   "cell_type": "code",
   "execution_count": 18,
   "metadata": {},
   "outputs": [
    {
     "name": "stdout",
     "output_type": "stream",
     "text": [
      "PassengerId         object\n",
      "HomePlanet         float64\n",
      "CryoSleep           object\n",
      "Destination        float64\n",
      "Age                float64\n",
      "VIP                 object\n",
      "RoomService        float64\n",
      "FoodCourt          float64\n",
      "ShoppingMall       float64\n",
      "Spa                float64\n",
      "VRDeck             float64\n",
      "Transported           bool\n",
      "PassengerGroup       Int64\n",
      "PassengerNumber      Int64\n",
      "Deck               float64\n",
      "DeckNumber           Int64\n",
      "DeckSide           float64\n",
      "dtype: object\n"
     ]
    }
   ],
   "source": [
    "print(train_data.dtypes)"
   ]
  },
  {
   "cell_type": "markdown",
   "metadata": {},
   "source": [
    "We see that the only columns with non-defined data types are PassengerId, CryoSleep and VIP. We will see if they have any null values."
   ]
  },
  {
   "cell_type": "code",
   "execution_count": 19,
   "metadata": {},
   "outputs": [
    {
     "name": "stdout",
     "output_type": "stream",
     "text": [
      "Number of rows with null 'VIP' data: 203\n",
      "Number of total rows: 8693\n",
      "Percentage of null 'VIP' data: 0.023352122397331185\n",
      "\n",
      "Number of rows with null 'PassengerId' data: 0\n",
      "Number of total rows: 8693\n",
      "Percentage of null 'PassengerId' data: 0.0\n",
      "\n",
      "Number of rows with null 'CryoSleep' data: 217\n",
      "Number of total rows: 8693\n",
      "Percentage of null 'CryoSleep' data: 0.02496261359714713\n",
      "\n"
     ]
    }
   ],
   "source": [
    "print(\"Number of rows with null \\'VIP\\' data: \"+ str(len(train_data[train_data['VIP'].isnull()])))\n",
    "print(\"Number of total rows: \"+ str(len(train_data)))\n",
    "print(\"Percentage of null \\'VIP\\' data: \"+str(len(train_data[train_data['VIP'].isnull()])/len(train_data))+\"\\n\")\n",
    "\n",
    "print(\"Number of rows with null \\'PassengerId\\' data: \"+ str(len(train_data[train_data['PassengerId'].isnull()])))\n",
    "print(\"Number of total rows: \"+ str(len(train_data)))\n",
    "print(\"Percentage of null \\'PassengerId\\' data: \"+str(len(train_data[train_data['PassengerId'].isnull()])/len(train_data))+\"\\n\")\n",
    "\n",
    "print(\"Number of rows with null \\'CryoSleep\\' data: \"+ str(len(train_data[train_data['CryoSleep'].isnull()])))\n",
    "print(\"Number of total rows: \"+ str(len(train_data)))\n",
    "print(\"Percentage of null \\'CryoSleep\\' data: \"+str(len(train_data[train_data['CryoSleep'].isnull()])/len(train_data))+\"\\n\")"
   ]
  },
  {
   "cell_type": "markdown",
   "metadata": {},
   "source": [
    "Thus, PassengerID is all strings, compared to the other two, which has around 2.5% of null rows. We will try to impute the missing data."
   ]
  },
  {
   "cell_type": "code",
   "execution_count": 8,
   "metadata": {},
   "outputs": [
    {
     "data": {
      "text/plain": [
       "PassengerId        0.014018\n",
       "HomePlanet         0.127844\n",
       "CryoSleep         -0.081402\n",
       "Destination       -0.044722\n",
       "Age                0.092819\n",
       "VIP                1.000000\n",
       "RoomService        0.058785\n",
       "FoodCourt          0.129799\n",
       "ShoppingMall       0.018295\n",
       "Spa                0.061059\n",
       "VRDeck             0.125974\n",
       "Transported       -0.037650\n",
       "PassengerGroup     0.014018\n",
       "PassengerNumber    0.000622\n",
       "Deck              -0.180471\n",
       "DeckNumber        -0.099416\n",
       "DeckSide           0.010117\n",
       "Name: VIP, dtype: float64"
      ]
     },
     "execution_count": 8,
     "metadata": {},
     "output_type": "execute_result"
    }
   ],
   "source": [
    "train_data.corr()[\"VIP\"]"
   ]
  },
  {
   "cell_type": "markdown",
   "metadata": {},
   "source": [
    "Since the maximum correlation is with Food Court, linear regression will be used to predict VIP"
   ]
  },
  {
   "cell_type": "code",
   "execution_count": 9,
   "metadata": {},
   "outputs": [
    {
     "data": {
      "text/plain": [
       "PassengerId       -0.005879\n",
       "HomePlanet         0.088072\n",
       "CryoSleep          1.000000\n",
       "Destination       -0.096722\n",
       "Age               -0.074273\n",
       "VIP               -0.081402\n",
       "RoomService       -0.252396\n",
       "FoodCourt         -0.211510\n",
       "ShoppingMall      -0.212514\n",
       "Spa               -0.203991\n",
       "VRDeck            -0.198857\n",
       "Transported        0.468645\n",
       "PassengerGroup    -0.005879\n",
       "PassengerNumber    0.064676\n",
       "Deck               0.015158\n",
       "DeckNumber        -0.037560\n",
       "DeckSide          -0.019677\n",
       "Name: CryoSleep, dtype: float64"
      ]
     },
     "execution_count": 9,
     "metadata": {},
     "output_type": "execute_result"
    }
   ],
   "source": [
    "train_data.corr()[\"CryoSleep\"]"
   ]
  },
  {
   "cell_type": "markdown",
   "metadata": {},
   "source": [
    "Apart from Transported, the most correlated one is RoomService."
   ]
  },
  {
   "cell_type": "code",
   "execution_count": 13,
   "metadata": {},
   "outputs": [
    {
     "data": {
      "text/plain": [
       "0       False\n",
       "1       False\n",
       "2       False\n",
       "3       False\n",
       "4       False\n",
       "        ...  \n",
       "8688    False\n",
       "8689    False\n",
       "8690    False\n",
       "8691    False\n",
       "8692    False\n",
       "Name: HomePlanet, Length: 8693, dtype: bool"
      ]
     },
     "execution_count": 13,
     "metadata": {},
     "output_type": "execute_result"
    }
   ],
   "source": [
    "train_data['HomePlanet'].isna()"
   ]
  },
  {
   "cell_type": "code",
   "execution_count": null,
   "metadata": {},
   "outputs": [],
   "source": [
    "VIP=train_data['VIP'].values\n",
    "FoodCourt=train_data['FoodCourt'].values\n",
    "\n"
   ]
  },
  {
   "cell_type": "markdown",
   "metadata": {},
   "source": [
    "## Downsampling\n",
    "\n",
    "Since SVM works well with only small data sets, we will split our training data into smaller sets of 1000 data points each"
   ]
  },
  {
   "cell_type": "code",
   "execution_count": 23,
   "metadata": {},
   "outputs": [],
   "source": [
    "train_transported=train_data[train_data['Transported']==True]\n",
    "train_not_transported=train_data[train_data['Transported']==False]\n",
    "\n",
    "train_not_transported_downsampled=resample(train_not_transported,replace=False,n_samples=1000)\n",
    "train_transported_downsampled=resample(train_transported,replace=False,n_samples=1000)\n",
    "\n",
    "train_downsampled=pd.concat([train_transported_downsampled,train_not_transported_downsampled])"
   ]
  },
  {
   "cell_type": "markdown",
   "metadata": {},
   "source": [
    "## Setting independant and dependant variables"
   ]
  }
 ],
 "metadata": {
  "kernelspec": {
   "display_name": "Python 3",
   "language": "python",
   "name": "python3"
  },
  "language_info": {
   "codemirror_mode": {
    "name": "ipython",
    "version": 3
   },
   "file_extension": ".py",
   "mimetype": "text/x-python",
   "name": "python",
   "nbconvert_exporter": "python",
   "pygments_lexer": "ipython3",
   "version": "3.11.8"
  }
 },
 "nbformat": 4,
 "nbformat_minor": 2
}
