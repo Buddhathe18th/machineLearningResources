{
 "cells": [
  {
   "cell_type": "code",
   "execution_count": 9,
   "metadata": {
    "_cell_guid": "b1076dfc-b9ad-4769-8c92-a6c4dae69d19",
    "_uuid": "8f2839f25d086af736a60e9eeb907d3b93b6e0e5",
    "execution": {
     "iopub.execute_input": "2024-07-24T15:18:21.891756Z",
     "iopub.status.busy": "2024-07-24T15:18:21.890650Z",
     "iopub.status.idle": "2024-07-24T15:18:22.412126Z",
     "shell.execute_reply": "2024-07-24T15:18:22.410712Z",
     "shell.execute_reply.started": "2024-07-24T15:18:21.891710Z"
    },
    "trusted": true
   },
   "outputs": [
    {
     "data": {
      "text/html": [
       "<div>\n",
       "<style scoped>\n",
       "    .dataframe tbody tr th:only-of-type {\n",
       "        vertical-align: middle;\n",
       "    }\n",
       "\n",
       "    .dataframe tbody tr th {\n",
       "        vertical-align: top;\n",
       "    }\n",
       "\n",
       "    .dataframe thead th {\n",
       "        text-align: right;\n",
       "    }\n",
       "</style>\n",
       "<table border=\"1\" class=\"dataframe\">\n",
       "  <thead>\n",
       "    <tr style=\"text-align: right;\">\n",
       "      <th></th>\n",
       "      <th>GameNumber</th>\n",
       "      <th>Year</th>\n",
       "      <th>Month</th>\n",
       "      <th>Day</th>\n",
       "      <th>Time</th>\n",
       "      <th>Pairing1</th>\n",
       "      <th>Pairing2</th>\n",
       "      <th>Score1</th>\n",
       "      <th>Score2</th>\n",
       "      <th>TimeSpent</th>\n",
       "    </tr>\n",
       "  </thead>\n",
       "  <tbody>\n",
       "    <tr>\n",
       "      <th>0</th>\n",
       "      <td>1</td>\n",
       "      <td>2025</td>\n",
       "      <td>1</td>\n",
       "      <td>31</td>\n",
       "      <td>3:15</td>\n",
       "      <td>Alvin_Simon</td>\n",
       "      <td>Ethan_Alex</td>\n",
       "      <td>19</td>\n",
       "      <td>21</td>\n",
       "      <td>23</td>\n",
       "    </tr>\n",
       "  </tbody>\n",
       "</table>\n",
       "</div>"
      ],
      "text/plain": [
       "   GameNumber  Year  Month  Day  Time     Pairing1    Pairing2  Score1  \\\n",
       "0           1  2025      1   31  3:15  Alvin_Simon  Ethan_Alex      19   \n",
       "\n",
       "   Score2  TimeSpent  \n",
       "0      21         23  "
      ]
     },
     "execution_count": 9,
     "metadata": {},
     "output_type": "execute_result"
    }
   ],
   "source": [
    "import numpy as np # linear algebra\n",
    "import pandas as pd # data processing, CSV file I/O (e.g. pd.read_csv)\n",
    "\n",
    "import os\n",
    "\n",
    "past_data=pd.read_csv(\"./data.csv\")\n",
    "past_data.head()"
   ]
  },
  {
   "cell_type": "code",
   "execution_count": 16,
   "metadata": {},
   "outputs": [],
   "source": [
    "hour=[]\n",
    "minute=[]\n",
    "\n",
    "for i in range(len(past_data)):\n",
    "    time=list(map(int,str(past_data.loc[i][\"Time\"]).split(\":\")))\n",
    "    hour.append(time[0])\n",
    "    minute.append(time[1])\n",
    "\n",
    "past_data[\"Hour\"]=hour\n",
    "past_data[\"Minute\"]=minute\n",
    "    "
   ]
  },
  {
   "cell_type": "code",
   "execution_count": 17,
   "metadata": {},
   "outputs": [
    {
     "data": {
      "text/html": [
       "<div>\n",
       "<style scoped>\n",
       "    .dataframe tbody tr th:only-of-type {\n",
       "        vertical-align: middle;\n",
       "    }\n",
       "\n",
       "    .dataframe tbody tr th {\n",
       "        vertical-align: top;\n",
       "    }\n",
       "\n",
       "    .dataframe thead th {\n",
       "        text-align: right;\n",
       "    }\n",
       "</style>\n",
       "<table border=\"1\" class=\"dataframe\">\n",
       "  <thead>\n",
       "    <tr style=\"text-align: right;\">\n",
       "      <th></th>\n",
       "      <th>GameNumber</th>\n",
       "      <th>Year</th>\n",
       "      <th>Month</th>\n",
       "      <th>Day</th>\n",
       "      <th>Time</th>\n",
       "      <th>Pairing1</th>\n",
       "      <th>Pairing2</th>\n",
       "      <th>Score1</th>\n",
       "      <th>Score2</th>\n",
       "      <th>TimeSpent</th>\n",
       "      <th>Hour</th>\n",
       "      <th>Minute</th>\n",
       "    </tr>\n",
       "  </thead>\n",
       "  <tbody>\n",
       "    <tr>\n",
       "      <th>0</th>\n",
       "      <td>1</td>\n",
       "      <td>2025</td>\n",
       "      <td>1</td>\n",
       "      <td>31</td>\n",
       "      <td>3:15</td>\n",
       "      <td>Alvin_Simon</td>\n",
       "      <td>Ethan_Alex</td>\n",
       "      <td>19</td>\n",
       "      <td>21</td>\n",
       "      <td>23</td>\n",
       "      <td>3</td>\n",
       "      <td>15</td>\n",
       "    </tr>\n",
       "  </tbody>\n",
       "</table>\n",
       "</div>"
      ],
      "text/plain": [
       "   GameNumber  Year  Month  Day  Time     Pairing1    Pairing2  Score1  \\\n",
       "0           1  2025      1   31  3:15  Alvin_Simon  Ethan_Alex      19   \n",
       "\n",
       "   Score2  TimeSpent  Hour  Minute  \n",
       "0      21         23     3      15  "
      ]
     },
     "execution_count": 17,
     "metadata": {},
     "output_type": "execute_result"
    }
   ],
   "source": [
    "past_data.head()"
   ]
  },
  {
   "cell_type": "code",
   "execution_count": null,
   "metadata": {
    "execution": {
     "iopub.execute_input": "2024-07-24T15:18:25.822513Z",
     "iopub.status.busy": "2024-07-24T15:18:25.822090Z",
     "iopub.status.idle": "2024-07-24T15:18:25.839850Z",
     "shell.execute_reply": "2024-07-24T15:18:25.838408Z",
     "shell.execute_reply.started": "2024-07-24T15:18:25.822483Z"
    },
    "trusted": true
   },
   "outputs": [],
   "source": [
    "\n",
    "\n",
    "# Replacing empty ages, can do regression later on\n",
    "ageTrain = train_data.loc[train_data.Age.notnull()][\"Age\"]\n",
    "avgAgeTrain = sum(ageTrain)/len(ageTrain)\n",
    "\n",
    "train_data.loc[train_data['Age'].isnull(),'Age'] = avgAgeTrain\n",
    "\n",
    "d = {'C': 0, 'Q': 1, 'S': 2}\n",
    "train_data['Embarked'] = train_data['Embarked'].map(d)\n",
    "# Adjust all null embarked to 0\n",
    "train_data.loc[train_data['Embarked'].isnull(),'Embarked'] = 0"
   ]
  },
  {
   "cell_type": "code",
   "execution_count": null,
   "metadata": {
    "execution": {
     "iopub.execute_input": "2024-07-24T15:18:29.197483Z",
     "iopub.status.busy": "2024-07-24T15:18:29.197047Z",
     "iopub.status.idle": "2024-07-24T15:18:29.213253Z",
     "shell.execute_reply": "2024-07-24T15:18:29.211824Z",
     "shell.execute_reply.started": "2024-07-24T15:18:29.197447Z"
    },
    "trusted": true
   },
   "outputs": [],
   "source": [
    "# Replacing empty ages, can do regression later on\n",
    "ageTest = test_data.loc[test_data.Age.notnull()][\"Age\"]\n",
    "avgAgeTest = sum(ageTest)/len(ageTest)\n",
    "\n",
    "test_data.loc[test_data['Age'].isnull(),'Age'] = avgAgeTest\n",
    "\n",
    "d = {'C': 0, 'Q': 1, 'S': 2}\n",
    "test_data['Embarked'] = test_data['Embarked'].map(d)\n",
    "# Adjust all null embarked to 0\n",
    "test_data.loc[test_data['Embarked'].isnull(),'Embarked'] = 0\n",
    "test_data.loc[test_data['Fare'].isnull(),'Fare'] = 7"
   ]
  },
  {
   "cell_type": "code",
   "execution_count": null,
   "metadata": {
    "execution": {
     "iopub.execute_input": "2024-07-24T15:18:31.997201Z",
     "iopub.status.busy": "2024-07-24T15:18:31.996348Z",
     "iopub.status.idle": "2024-07-24T15:18:32.005430Z",
     "shell.execute_reply": "2024-07-24T15:18:32.004082Z",
     "shell.execute_reply.started": "2024-07-24T15:18:31.997153Z"
    },
    "trusted": true
   },
   "outputs": [],
   "source": [
    "print(test_data.loc[test_data['Fare'].isnull()])"
   ]
  },
  {
   "cell_type": "code",
   "execution_count": null,
   "metadata": {
    "execution": {
     "iopub.execute_input": "2024-07-24T15:18:34.558886Z",
     "iopub.status.busy": "2024-07-24T15:18:34.558483Z",
     "iopub.status.idle": "2024-07-24T15:18:36.232663Z",
     "shell.execute_reply": "2024-07-24T15:18:36.231570Z",
     "shell.execute_reply.started": "2024-07-24T15:18:34.558852Z"
    },
    "trusted": true
   },
   "outputs": [],
   "source": [
    "from sklearn.ensemble import RandomForestClassifier\n",
    "\n",
    "y = train_data[\"Survived\"]\n",
    "\n",
    "features = [\"Pclass\", \"Sex\", \"Age\",\"SibSp\", \"Parch\",\"Embarked\",\"Fare\"]\n",
    "\n",
    "X = pd.get_dummies(train_data[features])\n",
    "print(X)\n",
    "X_test = pd.get_dummies(test_data[features])\n",
    "print(X_test)\n",
    "model = RandomForestClassifier(n_estimators=200, max_depth=5, random_state=1)\n",
    "model.fit(X, y)\n",
    "predictions = model.predict(X_test)\n",
    "\n",
    "output = pd.DataFrame({'PassengerId': test_data.PassengerId, 'Survived': predictions})\n",
    "output.to_csv('submission.csv', index=False)\n",
    "print(\"Your submission was successfully saved!\")"
   ]
  },
  {
   "cell_type": "code",
   "execution_count": null,
   "metadata": {
    "execution": {
     "iopub.execute_input": "2024-07-24T13:14:05.376144Z",
     "iopub.status.busy": "2024-07-24T13:14:05.375697Z",
     "iopub.status.idle": "2024-07-24T13:14:05.391935Z",
     "shell.execute_reply": "2024-07-24T13:14:05.390140Z",
     "shell.execute_reply.started": "2024-07-24T13:14:05.376102Z"
    },
    "trusted": true
   },
   "outputs": [],
   "source": [
    "submission = pd.read_csv(\"./submission.csv\")\n",
    "submission.head()"
   ]
  }
 ],
 "metadata": {
  "kaggle": {
   "accelerator": "none",
   "dataSources": [
    {
     "databundleVersionId": 26502,
     "sourceId": 3136,
     "sourceType": "competition"
    }
   ],
   "dockerImageVersionId": 30746,
   "isGpuEnabled": false,
   "isInternetEnabled": false,
   "language": "python",
   "sourceType": "notebook"
  },
  "kernelspec": {
   "display_name": "Python 3",
   "language": "python",
   "name": "python3"
  },
  "language_info": {
   "codemirror_mode": {
    "name": "ipython",
    "version": 3
   },
   "file_extension": ".py",
   "mimetype": "text/x-python",
   "name": "python",
   "nbconvert_exporter": "python",
   "pygments_lexer": "ipython3",
   "version": "3.11.8"
  }
 },
 "nbformat": 4,
 "nbformat_minor": 4
}
